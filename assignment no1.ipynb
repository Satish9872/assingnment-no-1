{
 "cells": [
  {
   "cell_type": "markdown",
   "id": "b9141c15",
   "metadata": {},
   "source": [
    "# 1. In the below elements which of them are values or an expression? eg:- values can be\n",
    "integer or string and expressions will be mathematical operators.\n",
    "ans= * this is an expression\n",
    "        'hello'   this is a value\n",
    "       -87.8      this is a value\n",
    "        -            this is a expression\n",
    "        /            this is a expression\n",
    "        +           this is a expresion\n",
    "        6            this is a value"
   ]
  },
  {
   "cell_type": "markdown",
   "id": "c927d9ed",
   "metadata": {},
   "source": [
    "# 2. What is the difference between string and variable?\n",
    "\n",
    "ans= STRIiNG :- string is an a combination of alphabetical words which can written inside the quotes \"\"\n",
    "\n",
    "\n",
    "VARIABLE:- It acts like a container in which we can locate and store the data and by calling the variable we can acces the data"
   ]
  },
  {
   "cell_type": "markdown",
   "id": "fbed2230",
   "metadata": {},
   "source": [
    "# 3. Describe three different data types.\n",
    "\n",
    "Ans= there are the three diff data types  a) lsit b)int c)float\n",
    "\n",
    "a) list is used to store multipale type of data in sinlge variable between close parenthesis [ ]\n",
    "b)integer : this is only stores the numerical value\n",
    "c) float: it is used to store floating values ( the values in which decimal pint is used) exampe 45.22,66.33 "
   ]
  },
  {
   "cell_type": "markdown",
   "id": "4aa28155",
   "metadata": {},
   "source": [
    "# 4. What is an expression made up of? What do all expressions do?\n",
    "ANS=\n",
    "Expression is kind of values and mathematical operators "
   ]
  },
  {
   "cell_type": "markdown",
   "id": "d5182ded",
   "metadata": {},
   "source": [
    "# 5. This assignment statements, like spam = 10. What is the difference between an expression and a statement?\n",
    "ANS=\n",
    "expression is include some values and mathematical signs and statement are use as a command in python"
   ]
  },
  {
   "cell_type": "markdown",
   "id": "7daabe70",
   "metadata": {},
   "source": [
    "# 6. After running the following code, what does the variable bacon contain?\n",
    "bacon = 22\n",
    "bacon + 1\n",
    "\n",
    "execution of this problem in next two lines"
   ]
  },
  {
   "cell_type": "code",
   "execution_count": 1,
   "id": "e4f5af30",
   "metadata": {},
   "outputs": [],
   "source": [
    "bacon=22"
   ]
  },
  {
   "cell_type": "code",
   "execution_count": 2,
   "id": "2151c750",
   "metadata": {},
   "outputs": [
    {
     "data": {
      "text/plain": [
       "23"
      ]
     },
     "execution_count": 2,
     "metadata": {},
     "output_type": "execute_result"
    }
   ],
   "source": [
    "bacon+1"
   ]
  },
  {
   "cell_type": "markdown",
   "id": "4d4af023",
   "metadata": {},
   "source": [
    "# 7. What should the values of the following two terms be?\n",
    "'spam'+'spamspam\n",
    "'spam'*3\n",
    "\n",
    "execution in next lines"
   ]
  },
  {
   "cell_type": "code",
   "execution_count": 4,
   "id": "717c92cf",
   "metadata": {},
   "outputs": [
    {
     "data": {
      "text/plain": [
       "'spamspamspam'"
      ]
     },
     "execution_count": 4,
     "metadata": {},
     "output_type": "execute_result"
    }
   ],
   "source": [
    "'spam'+'spamspam'"
   ]
  },
  {
   "cell_type": "code",
   "execution_count": 5,
   "id": "61223396",
   "metadata": {},
   "outputs": [
    {
     "data": {
      "text/plain": [
       "'spamspamspam'"
      ]
     },
     "execution_count": 5,
     "metadata": {},
     "output_type": "execute_result"
    }
   ],
   "source": [
    "'spam'*3"
   ]
  },
  {
   "cell_type": "markdown",
   "id": "49da39c0",
   "metadata": {},
   "source": [
    "# 8. Why is eggs a valid variable name while 100 is invalid?\n",
    "ANS=\n",
    "egg is valid because it is kind of unique and 100 is invalid because it uses multiple time and when we \n",
    "recall the variable it should easy to recall the string but difficult to understand the integer"
   ]
  },
  {
   "cell_type": "markdown",
   "id": "cb571040",
   "metadata": {},
   "source": [
    "# 9. What three functions can be used to get the integer, floating-point number, or string version of a value?\n",
    "ANS=for string we can call str()\n",
    "         for integer we can call int()\n",
    "         for floating point number we can call float()"
   ]
  },
  {
   "cell_type": "code",
   "execution_count": null,
   "id": "5c90a54a",
   "metadata": {},
   "outputs": [],
   "source": [
    "10. Why does this expression cause an error? How can you fix it?\n",
    " ' I have eaten' + 99 +'burritos'\n",
    "    ANS=   WE  can only concatenate str (not \"int\") to str "
   ]
  },
  {
   "cell_type": "code",
   "execution_count": 7,
   "id": "e1222208",
   "metadata": {},
   "outputs": [
    {
     "ename": "TypeError",
     "evalue": "can only concatenate str (not \"int\") to str",
     "output_type": "error",
     "traceback": [
      "\u001b[1;31m---------------------------------------------------------------------------\u001b[0m",
      "\u001b[1;31mTypeError\u001b[0m                                 Traceback (most recent call last)",
      "\u001b[1;32m~\\AppData\\Local\\Temp/ipykernel_11476/3299118664.py\u001b[0m in \u001b[0;36m<module>\u001b[1;34m\u001b[0m\n\u001b[1;32m----> 1\u001b[1;33m \u001b[1;34m\"i have eaten \"\u001b[0m \u001b[1;33m+\u001b[0m\u001b[1;34m\"burritos\"\u001b[0m \u001b[1;33m+\u001b[0m\u001b[1;36m99\u001b[0m\u001b[1;33m\u001b[0m\u001b[1;33m\u001b[0m\u001b[0m\n\u001b[0m",
      "\u001b[1;31mTypeError\u001b[0m: can only concatenate str (not \"int\") to str"
     ]
    }
   ],
   "source": [
    "\"i have eaten \" +\"burritos\" +99"
   ]
  },
  {
   "cell_type": "code",
   "execution_count": null,
   "id": "4a6fa302",
   "metadata": {},
   "outputs": [],
   "source": []
  },
  {
   "cell_type": "code",
   "execution_count": null,
   "id": "97af2b4c",
   "metadata": {},
   "outputs": [],
   "source": []
  },
  {
   "cell_type": "code",
   "execution_count": null,
   "id": "93304d3e",
   "metadata": {},
   "outputs": [],
   "source": []
  },
  {
   "cell_type": "code",
   "execution_count": null,
   "id": "ad06967e",
   "metadata": {},
   "outputs": [],
   "source": []
  }
 ],
 "metadata": {
  "kernelspec": {
   "display_name": "Python 3 (ipykernel)",
   "language": "python",
   "name": "python3"
  },
  "language_info": {
   "codemirror_mode": {
    "name": "ipython",
    "version": 3
   },
   "file_extension": ".py",
   "mimetype": "text/x-python",
   "name": "python",
   "nbconvert_exporter": "python",
   "pygments_lexer": "ipython3",
   "version": "3.9.7"
  }
 },
 "nbformat": 4,
 "nbformat_minor": 5
}
